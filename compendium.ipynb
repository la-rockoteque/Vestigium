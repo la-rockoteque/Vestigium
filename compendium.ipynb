{
 "cells": [
  {
   "cell_type": "markdown",
   "id": "52e6825e14e2f939",
   "metadata": {},
   "source": [
    "# Generate whole file\n",
    "https://raw.githubusercontent.com/la-rockoteque/Vestigium/refs/heads/main/out/Velum_Cineris;Vestigium_Guide_to_Concord_City.json\n"
   ]
  },
  {
   "cell_type": "code",
   "id": "978e9b88609eb572",
   "metadata": {
    "ExecuteTime": {
     "end_time": "2025-09-07T15:17:17.255388Z",
     "start_time": "2025-09-07T15:17:02.360526Z"
    }
   },
   "source": [
    "import pandas as pd\n",
    "import inflection\n",
    "\n",
    "from src.sources import full_source, source, json_source, sources\n",
    "import src.content.items\n",
    "import src.content.magic_items\n",
    "import src.content.feats\n",
    "import src.content.spells\n",
    "import src.content.classes\n",
    "import src.content.subclasses\n",
    "import src.content.monster\n",
    "import src.content.conditions\n",
    "import src.content.features\n",
    "import src.content.languages\n",
    "import src.content.species\n",
    "import src.content.backgrounds\n",
    "import src.content.dieties\n",
    "import src.content.diseases\n",
    "\n",
    "import json\n",
    "import hashlib\n",
    "import time\n",
    "\n",
    "\n",
    "def generate_date_last_modified_hash(doc) -> str:\n",
    "    if isinstance(doc, dict):\n",
    "        doc = dict(doc)\n",
    "        doc.pop(\"_dateLastModifiedHash\", None)\n",
    "\n",
    "    json_str = json.dumps(\n",
    "        doc,\n",
    "        ensure_ascii=False,\n",
    "        sort_keys=True,\n",
    "        default=lambda o: list(o) if isinstance(o, set) else o\n",
    "    )\n",
    "\n",
    "    md5_hash = hashlib.md5(json_str.encode(\"utf-8\")).hexdigest()\n",
    "    return md5_hash\n",
    "\n",
    "\n",
    "current_epoch = time.time()\n",
    "compendium = {\n",
    "    \"_meta\": {\n",
    "        \"sources\": sources,\n",
    "        \"unlisted\": True,\n",
    "        \"dateAdded\": 1743879729,\n",
    "        \"dateLastModified\": int(current_epoch),\n",
    "        \"_dateLastModifiedHash\": \"??????\",\n",
    "        \"edition\": \"classic\",\n",
    "        \"currencyConversions\": {\n",
    "            \"credit\": [{\"coin\": \"credit\", \"mult\": 0.001, \"isFallback\": True}]\n",
    "        },\n",
    "    },\n",
    "    \"$schema\": \"https://raw.githubusercontent.com/TheGiddyLimit/5etools-utils/master/schema/brew-fast/homebrew.json\",\n",
    "    \"race\": src.content.species.species_list,\n",
    "    \"class\": src.content.classes.classes_list,\n",
    "    \"subclass\": src.content.subclasses.subclasses_list,\n",
    "    \"spell\": src.content.spells.spells_list,\n",
    "    \"item\": src.content.items.items_list + src.content.magic_items.magic_items_list,\n",
    "    \"monster\": src.content.monster.monster_list,\n",
    "    \"feat\": src.content.feats.feat_list,\n",
    "    \"background\": src.content.backgrounds.background_list,\n",
    "    \"condition\": src.content.conditions.condition_list,\n",
    "    \"disease\": src.content.diseases.disease_list,\n",
    "    \"language\": src.content.languages.language_list,\n",
    "    \"deity\": src.content.dieties.diety_list,\n",
    "    \"classFeature\": src.content.features.features_list,\n",
    "    \"subclassFeature\": src.content.features.sub_class_features_list,\n",
    "    \"itemProperty\": src.content.items.item_property_list,\n",
    "}\n",
    "\n",
    "new_hash = generate_date_last_modified_hash(compendium)\n",
    "compendium[\"_meta\"][\"_dateLastModifiedHash\"] = f\"{new_hash[:10]}\"\n",
    "# Write the compendium to a JSON file\n",
    "output_file = f\"Velum_Cineris;{inflection.underscore(json_source)}.json\"\n",
    "with open(output_file, \"w\", encoding=\"utf-8\") as f:\n",
    "    json.dump(\n",
    "        compendium,\n",
    "        f,\n",
    "        ensure_ascii=False,\n",
    "        indent=4,\n",
    "        default=lambda o: list(o) if isinstance(o, set) else o\n",
    "    )\n",
    "\n",
    "print(f\"Export successful! The compendium has been saved as '{output_file}'.\")"
   ],
   "outputs": [
    {
     "name": "stderr",
     "output_type": "stream",
     "text": [
      "/Users/rocko/dev/Perso/VestigiumFoundrySpells/.venv/lib/python3.13/site-packages/tqdm/auto.py:21: TqdmWarning: IProgress not found. Please update jupyter and ipywidgets. See https://ipywidgets.readthedocs.io/en/stable/user_install.html\n",
      "  from .autonotebook import tqdm as notebook_tqdm\n"
     ]
    },
    {
     "ename": "AttributeError",
     "evalue": "'float' object has no attribute 'lower'",
     "output_type": "error",
     "traceback": [
      "\u001B[31m---------------------------------------------------------------------------\u001B[39m",
      "\u001B[31mAttributeError\u001B[39m                            Traceback (most recent call last)",
      "\u001B[36mCell\u001B[39m\u001B[36m \u001B[39m\u001B[32mIn[1]\u001B[39m\u001B[32m, line 11\u001B[39m\n\u001B[32m      9\u001B[39m \u001B[38;5;28;01mimport\u001B[39;00m\u001B[38;5;250m \u001B[39m\u001B[34;01msrc\u001B[39;00m\u001B[34;01m.\u001B[39;00m\u001B[34;01mcontent\u001B[39;00m\u001B[34;01m.\u001B[39;00m\u001B[34;01mclasses\u001B[39;00m\n\u001B[32m     10\u001B[39m \u001B[38;5;28;01mimport\u001B[39;00m\u001B[38;5;250m \u001B[39m\u001B[34;01msrc\u001B[39;00m\u001B[34;01m.\u001B[39;00m\u001B[34;01mcontent\u001B[39;00m\u001B[34;01m.\u001B[39;00m\u001B[34;01msubclasses\u001B[39;00m\n\u001B[32m---> \u001B[39m\u001B[32m11\u001B[39m \u001B[38;5;28;01mimport\u001B[39;00m\u001B[38;5;250m \u001B[39m\u001B[34;01msrc\u001B[39;00m\u001B[34;01m.\u001B[39;00m\u001B[34;01mcontent\u001B[39;00m\u001B[34;01m.\u001B[39;00m\u001B[34;01mmonster\u001B[39;00m\n\u001B[32m     12\u001B[39m \u001B[38;5;28;01mimport\u001B[39;00m\u001B[38;5;250m \u001B[39m\u001B[34;01msrc\u001B[39;00m\u001B[34;01m.\u001B[39;00m\u001B[34;01mcontent\u001B[39;00m\u001B[34;01m.\u001B[39;00m\u001B[34;01mconditions\u001B[39;00m\n\u001B[32m     13\u001B[39m \u001B[38;5;28;01mimport\u001B[39;00m\u001B[38;5;250m \u001B[39m\u001B[34;01msrc\u001B[39;00m\u001B[34;01m.\u001B[39;00m\u001B[34;01mcontent\u001B[39;00m\u001B[34;01m.\u001B[39;00m\u001B[34;01mfeatures\u001B[39;00m\n",
      "\u001B[36mFile \u001B[39m\u001B[32m~/dev/Perso/VestigiumFoundrySpells/src/content/monster.py:68\u001B[39m\n\u001B[32m     11\u001B[39m     languages = (\n\u001B[32m     12\u001B[39m         row.get(\u001B[33m\"\u001B[39m\u001B[33mLanguages\u001B[39m\u001B[33m\"\u001B[39m).lower().split(\u001B[33m\"\u001B[39m\u001B[33m, \u001B[39m\u001B[33m\"\u001B[39m)\n\u001B[32m     13\u001B[39m         \u001B[38;5;28;01mif\u001B[39;00m pd.notnull(row.get(\u001B[33m\"\u001B[39m\u001B[33mLanguages\u001B[39m\u001B[33m\"\u001B[39m))\n\u001B[32m     14\u001B[39m         \u001B[38;5;28;01melse\u001B[39;00m []\n\u001B[32m     15\u001B[39m     )\n\u001B[32m     16\u001B[39m     \u001B[38;5;28;01mreturn\u001B[39;00m {\n\u001B[32m     17\u001B[39m         \u001B[33m\"\u001B[39m\u001B[33msource\u001B[39m\u001B[33m\"\u001B[39m: json_source,\n\u001B[32m     18\u001B[39m         \u001B[33m\"\u001B[39m\u001B[33mname\u001B[39m\u001B[33m\"\u001B[39m: \u001B[33mf\u001B[39m\u001B[33m\"\u001B[39m\u001B[38;5;132;01m{\u001B[39;00mrow.get(\u001B[33m\"\u001B[39m\u001B[33mName\u001B[39m\u001B[33m\"\u001B[39m)\u001B[38;5;132;01m}\u001B[39;00m\u001B[33m, \u001B[39m\u001B[38;5;132;01m{\u001B[39;00mrow.get(\u001B[33m\"\u001B[39m\u001B[33mVariant\u001B[39m\u001B[33m\"\u001B[39m)\u001B[38;5;132;01m}\u001B[39;00m\u001B[33m\"\u001B[39m \u001B[38;5;28;01mif\u001B[39;00m pd.notnull(row.get(\u001B[33m\"\u001B[39m\u001B[33mVariant\u001B[39m\u001B[33m\"\u001B[39m)) \u001B[38;5;28;01melse\u001B[39;00m row.get(\u001B[33m\"\u001B[39m\u001B[33mName\u001B[39m\u001B[33m\"\u001B[39m),\n\u001B[32m   (...)\u001B[39m\u001B[32m     63\u001B[39m         \u001B[33m\"\u001B[39m\u001B[33mcr\u001B[39m\u001B[33m\"\u001B[39m: \u001B[33mf\u001B[39m\u001B[33m\"\u001B[39m\u001B[38;5;132;01m{\u001B[39;00mrow.get(\u001B[33m'\u001B[39m\u001B[33mCR (Challenge Rating)\u001B[39m\u001B[33m'\u001B[39m)\u001B[38;5;132;01m}\u001B[39;00m\u001B[33m\"\u001B[39m,\n\u001B[32m     64\u001B[39m     }\n\u001B[32m     67\u001B[39m monster_list = [\n\u001B[32m---> \u001B[39m\u001B[32m68\u001B[39m     \u001B[43mrow_to_monster\u001B[49m\u001B[43m(\u001B[49m\u001B[43mrow\u001B[49m\u001B[43m)\u001B[49m\n\u001B[32m     69\u001B[39m     \u001B[38;5;28;01mfor\u001B[39;00m index, row \u001B[38;5;129;01min\u001B[39;00m df_monster.iterrows()\n\u001B[32m     70\u001B[39m     \u001B[38;5;28;01mif\u001B[39;00m pd.notnull(row.get(\u001B[33m\"\u001B[39m\u001B[33mName\u001B[39m\u001B[33m\"\u001B[39m)) \u001B[38;5;129;01mand\u001B[39;00m row.get(\u001B[33m\"\u001B[39m\u001B[33mSource\u001B[39m\u001B[33m\"\u001B[39m) == source\n\u001B[32m     71\u001B[39m ]\n",
      "\u001B[36mFile \u001B[39m\u001B[32m~/dev/Perso/VestigiumFoundrySpells/src/content/monster.py:20\u001B[39m, in \u001B[36mrow_to_monster\u001B[39m\u001B[34m(row)\u001B[39m\n\u001B[32m     10\u001B[39m \u001B[38;5;28;01mdef\u001B[39;00m\u001B[38;5;250m \u001B[39m\u001B[34mrow_to_monster\u001B[39m(row):\n\u001B[32m     11\u001B[39m     languages = (\n\u001B[32m     12\u001B[39m         row.get(\u001B[33m\"\u001B[39m\u001B[33mLanguages\u001B[39m\u001B[33m\"\u001B[39m).lower().split(\u001B[33m\"\u001B[39m\u001B[33m, \u001B[39m\u001B[33m\"\u001B[39m)\n\u001B[32m     13\u001B[39m         \u001B[38;5;28;01mif\u001B[39;00m pd.notnull(row.get(\u001B[33m\"\u001B[39m\u001B[33mLanguages\u001B[39m\u001B[33m\"\u001B[39m))\n\u001B[32m     14\u001B[39m         \u001B[38;5;28;01melse\u001B[39;00m []\n\u001B[32m     15\u001B[39m     )\n\u001B[32m     16\u001B[39m     \u001B[38;5;28;01mreturn\u001B[39;00m {\n\u001B[32m     17\u001B[39m         \u001B[33m\"\u001B[39m\u001B[33msource\u001B[39m\u001B[33m\"\u001B[39m: json_source,\n\u001B[32m     18\u001B[39m         \u001B[33m\"\u001B[39m\u001B[33mname\u001B[39m\u001B[33m\"\u001B[39m: \u001B[33mf\u001B[39m\u001B[33m\"\u001B[39m\u001B[38;5;132;01m{\u001B[39;00mrow.get(\u001B[33m\"\u001B[39m\u001B[33mName\u001B[39m\u001B[33m\"\u001B[39m)\u001B[38;5;132;01m}\u001B[39;00m\u001B[33m, \u001B[39m\u001B[38;5;132;01m{\u001B[39;00mrow.get(\u001B[33m\"\u001B[39m\u001B[33mVariant\u001B[39m\u001B[33m\"\u001B[39m)\u001B[38;5;132;01m}\u001B[39;00m\u001B[33m\"\u001B[39m \u001B[38;5;28;01mif\u001B[39;00m pd.notnull(row.get(\u001B[33m\"\u001B[39m\u001B[33mVariant\u001B[39m\u001B[33m\"\u001B[39m)) \u001B[38;5;28;01melse\u001B[39;00m row.get(\u001B[33m\"\u001B[39m\u001B[33mName\u001B[39m\u001B[33m\"\u001B[39m),\n\u001B[32m     19\u001B[39m         \u001B[33m\"\u001B[39m\u001B[33msize\u001B[39m\u001B[33m\"\u001B[39m: [row.get(\u001B[33m\"\u001B[39m\u001B[33mSize\u001B[39m\u001B[33m\"\u001B[39m)[:\u001B[32m1\u001B[39m].upper()],\n\u001B[32m---> \u001B[39m\u001B[32m20\u001B[39m         \u001B[33m\"\u001B[39m\u001B[33mtype\u001B[39m\u001B[33m\"\u001B[39m: \u001B[43mrow\u001B[49m\u001B[43m.\u001B[49m\u001B[43mget\u001B[49m\u001B[43m(\u001B[49m\u001B[33;43m\"\u001B[39;49m\u001B[33;43mClassic 5e Type\u001B[39;49m\u001B[33;43m\"\u001B[39;49m\u001B[43m)\u001B[49m\u001B[43m.\u001B[49m\u001B[43mlower\u001B[49m(),\n\u001B[32m     21\u001B[39m         \u001B[33m\"\u001B[39m\u001B[33malignment\u001B[39m\u001B[33m\"\u001B[39m: [row.get(\u001B[33m\"\u001B[39m\u001B[33mAlignment\u001B[39m\u001B[33m\"\u001B[39m)[:\u001B[32m1\u001B[39m].upper()],\n\u001B[32m     22\u001B[39m         \u001B[33m\"\u001B[39m\u001B[33mac\u001B[39m\u001B[33m\"\u001B[39m: [row.get(\u001B[33m\"\u001B[39m\u001B[33mArmor Class\u001B[39m\u001B[33m\"\u001B[39m)],\n\u001B[32m     23\u001B[39m         \u001B[33m\"\u001B[39m\u001B[33mhp\u001B[39m\u001B[33m\"\u001B[39m: {\n\u001B[32m     24\u001B[39m             \u001B[33m\"\u001B[39m\u001B[33maverage\u001B[39m\u001B[33m\"\u001B[39m: row.get(\u001B[33m\"\u001B[39m\u001B[33mHit Points\u001B[39m\u001B[33m\"\u001B[39m),\n\u001B[32m     25\u001B[39m             \u001B[33m\"\u001B[39m\u001B[33mformula\u001B[39m\u001B[33m\"\u001B[39m: \u001B[33mf\u001B[39m\u001B[33m\"\u001B[39m\u001B[38;5;132;01m{\u001B[39;00mrow.get(\u001B[33m'\u001B[39m\u001B[33mHit Dice\u001B[39m\u001B[33m'\u001B[39m).lower()\u001B[38;5;132;01m}\u001B[39;00m\u001B[33m + \u001B[39m\u001B[38;5;132;01m{\u001B[39;00mrow.get(\u001B[33m'\u001B[39m\u001B[33mCON Mod\u001B[39m\u001B[33m'\u001B[39m)\u001B[38;5;132;01m}\u001B[39;00m\u001B[33m\"\u001B[39m,\n\u001B[32m     26\u001B[39m         },\n\u001B[32m     27\u001B[39m         \u001B[33m\"\u001B[39m\u001B[33mspeed\u001B[39m\u001B[33m\"\u001B[39m: {\n\u001B[32m     28\u001B[39m             **(\n\u001B[32m     29\u001B[39m                 {\u001B[33m\"\u001B[39m\u001B[33mwalk\u001B[39m\u001B[33m\"\u001B[39m: row.get(\u001B[33m\"\u001B[39m\u001B[33mSpeed (Walking)\u001B[39m\u001B[33m\"\u001B[39m)}\n\u001B[32m     30\u001B[39m                 \u001B[38;5;28;01mif\u001B[39;00m pd.notnull(row.get(\u001B[33m\"\u001B[39m\u001B[33mSpeed (Walking)\u001B[39m\u001B[33m\"\u001B[39m))\n\u001B[32m     31\u001B[39m                 \u001B[38;5;28;01melse\u001B[39;00m {}\n\u001B[32m     32\u001B[39m             ),\n\u001B[32m     33\u001B[39m             **(\n\u001B[32m     34\u001B[39m                 {\u001B[33m\"\u001B[39m\u001B[33mfly\u001B[39m\u001B[33m\"\u001B[39m: row.get(\u001B[33m\"\u001B[39m\u001B[33mSpeed (Flying)\u001B[39m\u001B[33m\"\u001B[39m)}\n\u001B[32m     35\u001B[39m                 \u001B[38;5;28;01mif\u001B[39;00m pd.notnull(row.get(\u001B[33m\"\u001B[39m\u001B[33mSpeed (Flying)\u001B[39m\u001B[33m\"\u001B[39m))\n\u001B[32m     36\u001B[39m                 \u001B[38;5;28;01melse\u001B[39;00m {}\n\u001B[32m     37\u001B[39m             ),\n\u001B[32m     38\u001B[39m             **(\n\u001B[32m     39\u001B[39m                 {\u001B[33m\"\u001B[39m\u001B[33mswim\u001B[39m\u001B[33m\"\u001B[39m: row.get(\u001B[33m\"\u001B[39m\u001B[33mSpeed (Swimming)\u001B[39m\u001B[33m\"\u001B[39m)}\n\u001B[32m     40\u001B[39m                 \u001B[38;5;28;01mif\u001B[39;00m pd.notnull(row.get(\u001B[33m\"\u001B[39m\u001B[33mSpeed (Swimming)\u001B[39m\u001B[33m\"\u001B[39m))\n\u001B[32m     41\u001B[39m                 \u001B[38;5;28;01melse\u001B[39;00m {}\n\u001B[32m     42\u001B[39m             ),\n\u001B[32m     43\u001B[39m             **(\n\u001B[32m     44\u001B[39m                 {\u001B[33m\"\u001B[39m\u001B[33mburrow\u001B[39m\u001B[33m\"\u001B[39m: row.get(\u001B[33m\"\u001B[39m\u001B[33mSpeed (Burrowing)\u001B[39m\u001B[33m\"\u001B[39m)}\n\u001B[32m     45\u001B[39m                 \u001B[38;5;28;01mif\u001B[39;00m pd.notnull(row.get(\u001B[33m\"\u001B[39m\u001B[33mSpeed (Burrowing)\u001B[39m\u001B[33m\"\u001B[39m))\n\u001B[32m     46\u001B[39m                 \u001B[38;5;28;01melse\u001B[39;00m {}\n\u001B[32m     47\u001B[39m             ),\n\u001B[32m     48\u001B[39m         },\n\u001B[32m     49\u001B[39m         \u001B[33m\"\u001B[39m\u001B[33mstr\u001B[39m\u001B[33m\"\u001B[39m: row.get(\u001B[33m\"\u001B[39m\u001B[33mSTR\u001B[39m\u001B[33m\"\u001B[39m),\n\u001B[32m     50\u001B[39m         \u001B[33m\"\u001B[39m\u001B[33mdex\u001B[39m\u001B[33m\"\u001B[39m: row.get(\u001B[33m\"\u001B[39m\u001B[33mDEX\u001B[39m\u001B[33m\"\u001B[39m),\n\u001B[32m     51\u001B[39m         \u001B[33m\"\u001B[39m\u001B[33mcon\u001B[39m\u001B[33m\"\u001B[39m: row.get(\u001B[33m\"\u001B[39m\u001B[33mCON\u001B[39m\u001B[33m\"\u001B[39m),\n\u001B[32m     52\u001B[39m         \u001B[33m\"\u001B[39m\u001B[33mint\u001B[39m\u001B[33m\"\u001B[39m: row.get(\u001B[33m\"\u001B[39m\u001B[33mINT\u001B[39m\u001B[33m\"\u001B[39m),\n\u001B[32m     53\u001B[39m         \u001B[33m\"\u001B[39m\u001B[33mwis\u001B[39m\u001B[33m\"\u001B[39m: row.get(\u001B[33m\"\u001B[39m\u001B[33mWIS\u001B[39m\u001B[33m\"\u001B[39m),\n\u001B[32m     54\u001B[39m         \u001B[33m\"\u001B[39m\u001B[33mcha\u001B[39m\u001B[33m\"\u001B[39m: row.get(\u001B[33m\"\u001B[39m\u001B[33mCHA\u001B[39m\u001B[33m\"\u001B[39m),\n\u001B[32m     55\u001B[39m         **(\n\u001B[32m     56\u001B[39m             {\u001B[33m\"\u001B[39m\u001B[33mconditionImmune\u001B[39m\u001B[33m\"\u001B[39m: row.get(\u001B[33m\"\u001B[39m\u001B[33mCondition Immunities\u001B[39m\u001B[33m\"\u001B[39m).lower().split(\u001B[33m\"\u001B[39m\u001B[33m, \u001B[39m\u001B[33m\"\u001B[39m)}\n\u001B[32m     57\u001B[39m             \u001B[38;5;28;01mif\u001B[39;00m pd.notnull(row.get(\u001B[33m\"\u001B[39m\u001B[33mCondition Immunities\u001B[39m\u001B[33m\"\u001B[39m))\n\u001B[32m     58\u001B[39m             \u001B[38;5;28;01melse\u001B[39;00m {}\n\u001B[32m     59\u001B[39m         ),\n\u001B[32m     60\u001B[39m         \u001B[38;5;66;03m# **({\"languages\":\u001B[39;00m\n\u001B[32m     61\u001B[39m         \u001B[38;5;66;03m#       (languages[0] if len(languages) == 1 else languages[0])\u001B[39;00m\n\u001B[32m     62\u001B[39m         \u001B[38;5;66;03m# } if pd.notnull(row.get(\"Languages\")) else {}),\u001B[39;00m\n\u001B[32m     63\u001B[39m         \u001B[33m\"\u001B[39m\u001B[33mcr\u001B[39m\u001B[33m\"\u001B[39m: \u001B[33mf\u001B[39m\u001B[33m\"\u001B[39m\u001B[38;5;132;01m{\u001B[39;00mrow.get(\u001B[33m'\u001B[39m\u001B[33mCR (Challenge Rating)\u001B[39m\u001B[33m'\u001B[39m)\u001B[38;5;132;01m}\u001B[39;00m\u001B[33m\"\u001B[39m,\n\u001B[32m     64\u001B[39m     }\n",
      "\u001B[31mAttributeError\u001B[39m: 'float' object has no attribute 'lower'"
     ]
    }
   ],
   "execution_count": 1
  },
  {
   "metadata": {},
   "cell_type": "code",
   "source": "",
   "id": "23f473fa1d8b1347",
   "outputs": [],
   "execution_count": null
  }
 ],
 "metadata": {
  "kernelspec": {
   "display_name": "Python 3",
   "language": "python",
   "name": "python3"
  },
  "language_info": {
   "codemirror_mode": {
    "name": "ipython",
    "version": 2
   },
   "file_extension": ".py",
   "mimetype": "text/x-python",
   "name": "python",
   "nbconvert_exporter": "python",
   "pygments_lexer": "ipython2",
   "version": "2.7.6"
  }
 },
 "nbformat": 4,
 "nbformat_minor": 5
}
