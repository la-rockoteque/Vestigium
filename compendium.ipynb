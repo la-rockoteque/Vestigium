{
 "cells": [
  {
   "metadata": {},
   "cell_type": "markdown",
   "source": [
    "# Generate whole file\n",
    "https://raw.githubusercontent.com/la-rockoteque/Vestigium/refs/heads/main/out/Velum_Cineris;Vestigium_Guide_to_Concord_City.json\n"
   ],
   "id": "52e6825e14e2f939"
  },
  {
   "metadata": {
    "ExecuteTime": {
     "end_time": "2025-04-15T10:01:01.139268Z",
     "start_time": "2025-04-15T10:00:49.615507Z"
    }
   },
   "cell_type": "code",
   "source": [
    "\n",
    "import pandas as pd\n",
    "import inflection\n",
    "\n",
    "from src.sources import full_source, source, json_source\n",
    "import src.content.items\n",
    "import src.content.magic_items\n",
    "import src.content.feats\n",
    "import src.content.spells\n",
    "import src.content.classes\n",
    "import src.content.monster\n",
    "import src.content.conditions\n",
    "import src.content.features\n",
    "import src.content.languages\n",
    "import src.content.species\n",
    "\n",
    "import json\n",
    "import hashlib\n",
    "import time\n",
    "\n",
    "def generate_date_last_modified_hash(doc) -> str:\n",
    "  if isinstance(doc, dict):\n",
    "    doc = dict(doc)\n",
    "    doc.pop(\"_dateLastModifiedHash\", None)\n",
    "\n",
    "  json_str = json.dumps(doc, ensure_ascii=False, sort_keys=True)\n",
    "\n",
    "  md5_hash = hashlib.md5(json_str.encode(\"utf-8\")).hexdigest()\n",
    "  return md5_hash\n",
    "\n",
    "current_epoch = time.time()\n",
    "compendium = {\n",
    "  \"_meta\": {\n",
    "    \"sources\": [\n",
    "      {\n",
    "        \"json\": src.sources.json_source,\n",
    "        \"abbreviation\": src.sources.source,\n",
    "        \"full\": src.sources.full_source,\n",
    "        \"url\": \"https://raw.githubusercontent.com/la-rockoteque/Vestigium/refs/heads/main\",\n",
    "        \"authors\": [\n",
    "          \"Velum Cineris\"\n",
    "        ],\n",
    "        \"version\": \"1.0\"\n",
    "      }\n",
    "    ],\n",
    "    \"unlisted\": True,\n",
    "    \"dateAdded\": 1743879729,\n",
    "    \"dateLastModified\": int(current_epoch),\n",
    "    \"_dateLastModifiedHash\": \"??????\",\n",
    "    \"edition\": \"classic\",\n",
    "    \"currencyConversions\": {\n",
    "      \"credit\": [\n",
    "        {\n",
    "          \"coin\": \"credit\",\n",
    "          \"mult\": 0.001,\n",
    "          \"isFallback\": True\n",
    "        }\n",
    "      ]\n",
    "    },\n",
    "  },\n",
    "  \"spell\": src.content.spells.spells_list,\n",
    "  \"item\": src.content.magic_items.magic_items_list + src.content.items.items_list,\n",
    "  \"class\": src.content.classes.classes_list,\n",
    "  \"classFeature\": src.content.features.features_list,\n",
    "  \"subclassFeature\": src.content.features.sub_class_features_list,\n",
    "  \"itemProperty\": src.content.items.item_property_list,\n",
    "  \"feat\": src.content.feats.feat_list,\n",
    "  \"condition\": src.content.conditions.condition_list,\n",
    "  \"language\": src.content.languages.language_list,\n",
    "  \"monster\": src.content.monster.monster_list,\n",
    "  \"race\": src.content.species.species_list\n",
    "}\n",
    "\n",
    "new_hash = generate_date_last_modified_hash(compendium)\n",
    "compendium[\"_meta\"][\"_dateLastModifiedHash\"] = F\"{new_hash[:10]}\"\n",
    "# Write the compendium to a JSON file\n",
    "output_file = f\"out/Velum_Cineris;{inflection.underscore(full_source)}.json\"\n",
    "with open(output_file, \"w\", encoding=\"utf-8\") as f:\n",
    "  json.dump(compendium, f, ensure_ascii=False, indent=4)\n",
    "\n",
    "print(f\"Export successful! The compendium has been saved as '{output_file}'.\")"
   ],
   "id": "978e9b88609eb572",
   "outputs": [
    {
     "name": "stderr",
     "output_type": "stream",
     "text": [
      "/Users/rocko/dev/VestigiumFoundrySpells/.venv/lib/python3.13/site-packages/tqdm/auto.py:21: TqdmWarning: IProgress not found. Please update jupyter and ipywidgets. See https://ipywidgets.readthedocs.io/en/stable/user_install.html\n",
      "  from .autonotebook import tqdm as notebook_tqdm\n"
     ]
    },
    {
     "name": "stdout",
     "output_type": "stream",
     "text": [
      "Export successful! The compendium has been saved as 'out/Velum_Cineris;everyday guide to concord city.json'.\n"
     ]
    }
   ],
   "execution_count": 1
  }
 ],
 "metadata": {
  "kernelspec": {
   "display_name": "Python 3",
   "language": "python",
   "name": "python3"
  },
  "language_info": {
   "codemirror_mode": {
    "name": "ipython",
    "version": 2
   },
   "file_extension": ".py",
   "mimetype": "text/x-python",
   "name": "python",
   "nbconvert_exporter": "python",
   "pygments_lexer": "ipython2",
   "version": "2.7.6"
  }
 },
 "nbformat": 4,
 "nbformat_minor": 5
}
