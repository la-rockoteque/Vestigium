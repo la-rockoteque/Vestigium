{
 "cells": [
  {
   "metadata": {},
   "cell_type": "markdown",
   "source": "# Generate whole file",
   "id": "52e6825e14e2f939"
  },
  {
   "metadata": {
    "ExecuteTime": {
     "end_time": "2025-04-11T10:58:31.835418Z",
     "start_time": "2025-04-11T10:58:31.825513Z"
    }
   },
   "cell_type": "code",
   "source": [
    "import re\n",
    "import pandas as pd\n",
    "\n",
    "import re\n",
    "import pandas as pd\n",
    "\n",
    "def extract_feats_from_markdown(markdown_file, excel_file):\n",
    "  \"\"\"\n",
    "  Extract feats from a markdown file and save them into an Excel file.\n",
    "  \n",
    "  Expected markdown format for each feat:\n",
    "  \n",
    "  ### **Feat Name**\n",
    "  *\"Flavor text here.\"*\n",
    "  - First bullet point.\n",
    "  - Second bullet point.\n",
    "  - etc.\n",
    "  \n",
    "  Parameters:\n",
    "    markdown_file (str): Path to the markdown file.\n",
    "    excel_file (str): Path to save the resulting Excel file.\n",
    "  \"\"\"\n",
    "  # Read the markdown file; handle both Unix (\\n) and Windows (\\r\\n) newlines.\n",
    "  with open(markdown_file, \"r\", encoding=\"utf-8\") as f:\n",
    "    content = f.read()\n",
    "\n",
    "  # Regex pattern:\n",
    "  # Matches:\n",
    "  #   1. A header line: \"### **Feat Name**\" \n",
    "  #   2. A flavor text line starting with *\" and ending with \"* (on its own line)\n",
    "  #   3. One or more bullet lines starting with \"- \"\n",
    "  pattern = re.compile(\n",
    "    r\"### \\*\\*(?P<name>.*?)\\*\\*\\r?\\n\\*\\\"(?P<flavor>.*?)\\\"\\*\\r?\\n(?P<bullets>(?:- .+\\r?\\n)+)\",\n",
    "    re.MULTILINE\n",
    "  )\n",
    "\n",
    "  feats = []\n",
    "  for match in pattern.finditer(content):\n",
    "    name = match.group(\"name\").strip()\n",
    "    flavor = match.group(\"flavor\").strip()\n",
    "    bullets_raw = match.group(\"bullets\").strip()\n",
    "    # Split by lines and clean the bullet markers.\n",
    "    bullets = [line.lstrip(\"- \").strip() for line in bullets_raw.splitlines() if line.startswith(\"- \")]\n",
    "    feats.append({\n",
    "      \"Name\": name,\n",
    "      \"Flavor Text\": flavor,\n",
    "      \"Features\": \"; \".join(bullets)\n",
    "    })\n",
    "\n",
    "  df = pd.DataFrame(feats)\n",
    "  df.to_excel(excel_file, index=False)\n",
    "  print(f\"Extracted {len(feats)} feats and saved to {excel_file}\")\n",
    "  \n",
    "extract_feats_from_markdown(\"markdown/Vestigium Feats.md\", \"out/vestigium_feats.xlsx\")"
   ],
   "id": "978e9b88609eb572",
   "outputs": [
    {
     "name": "stdout",
     "output_type": "stream",
     "text": [
      "Extracted 78 feats and saved to out/vestigium_feats.xlsx\n"
     ]
    }
   ],
   "execution_count": 4
  },
  {
   "metadata": {
    "ExecuteTime": {
     "end_time": "2025-04-11T10:46:18.052710Z",
     "start_time": "2025-04-11T10:46:18.051546Z"
    }
   },
   "cell_type": "code",
   "source": "",
   "id": "4e2fa42edeeaf3f0",
   "outputs": [],
   "execution_count": null
  }
 ],
 "metadata": {
  "kernelspec": {
   "display_name": "Python 3",
   "language": "python",
   "name": "python3"
  },
  "language_info": {
   "codemirror_mode": {
    "name": "ipython",
    "version": 2
   },
   "file_extension": ".py",
   "mimetype": "text/x-python",
   "name": "python",
   "nbconvert_exporter": "python",
   "pygments_lexer": "ipython2",
   "version": "2.7.6"
  }
 },
 "nbformat": 4,
 "nbformat_minor": 5
}
