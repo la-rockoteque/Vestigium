{
 "cells": [
  {
   "cell_type": "markdown",
   "id": "52e6825e14e2f939",
   "metadata": {},
   "source": "# Generate whole file"
  },
  {
   "cell_type": "code",
   "execution_count": 4,
   "id": "978e9b88609eb572",
   "metadata": {
    "ExecuteTime": {
     "end_time": "2025-04-11T10:58:31.835418Z",
     "start_time": "2025-04-11T10:58:31.825513Z"
    }
   },
   "outputs": [
    {
     "name": "stdout",
     "output_type": "stream",
     "text": [
      "Extracted 78 feats and saved to out/vestigium_feats.xlsx\n"
     ]
    }
   ],
   "source": [
    "import re\n",
    "import pandas as pd\n",
    "\n",
    "import re\n",
    "import pandas as pd\n",
    "\n",
    "\n",
    "def extract_feats_from_markdown(markdown_file, excel_file):\n",
    "    \"\"\"\n",
    "    Extract feats from a markdown file and save them into an Excel file.\n",
    "\n",
    "    Expected markdown format for each feat:\n",
    "\n",
    "    ### **Feat Name**\n",
    "    *\"Flavor text here.\"*\n",
    "    - First bullet point.\n",
    "    - Second bullet point.\n",
    "    - etc.\n",
    "\n",
    "    Parameters:\n",
    "      markdown_file (str): Path to the markdown file.\n",
    "      excel_file (str): Path to save the resulting Excel file.\n",
    "    \"\"\"\n",
    "    # Read the markdown file; handle both Unix (\\n) and Windows (\\r\\n) newlines.\n",
    "    with open(markdown_file, \"r\", encoding=\"utf-8\") as f:\n",
    "        content = f.read()\n",
    "\n",
    "    # Regex pattern:\n",
    "    # Matches:\n",
    "    #   1. A header line: \"### **Feat Name**\"\n",
    "    #   2. A flavor text line starting with *\" and ending with \"* (on its own line)\n",
    "    #   3. One or more bullet lines starting with \"- \"\n",
    "    pattern = re.compile(\n",
    "        r\"### \\*\\*(?P<name>.*?)\\*\\*\\r?\\n\\*\\\"(?P<flavor>.*?)\\\"\\*\\r?\\n(?P<bullets>(?:- .+\\r?\\n)+)\",\n",
    "        re.MULTILINE,\n",
    "    )\n",
    "\n",
    "    feats = []\n",
    "    for match in pattern.finditer(content):\n",
    "        name = match.group(\"name\").strip()\n",
    "        flavor = match.group(\"flavor\").strip()\n",
    "        bullets_raw = match.group(\"bullets\").strip()\n",
    "        # Split by lines and clean the bullet markers.\n",
    "        bullets = [\n",
    "            line.lstrip(\"- \").strip()\n",
    "            for line in bullets_raw.splitlines()\n",
    "            if line.startswith(\"- \")\n",
    "        ]\n",
    "        feats.append(\n",
    "            {\"Name\": name, \"Flavor Text\": flavor, \"Features\": \"; \".join(bullets)}\n",
    "        )\n",
    "\n",
    "    df = pd.DataFrame(feats)\n",
    "    df.to_excel(excel_file, index=False)\n",
    "    print(f\"Extracted {len(feats)} feats and saved to {excel_file}\")\n",
    "\n",
    "\n",
    "extract_feats_from_markdown(\"markdown/Vestigium Feats.md\", \"out/vestigium_feats.xlsx\")"
   ]
  },
  {
   "cell_type": "code",
   "execution_count": 10,
   "id": "4e2fa42edeeaf3f0",
   "metadata": {
    "ExecuteTime": {
     "end_time": "2025-04-11T12:05:27.341360Z",
     "start_time": "2025-04-11T12:05:27.332157Z"
    }
   },
   "outputs": [
    {
     "name": "stdout",
     "output_type": "stream",
     "text": [
      "Extracted 10 conditions and saved to out/expanded_conditions.xlsx\n"
     ]
    }
   ],
   "source": [
    "def extract_conditions_from_markdown(markdown_file, excel_file):\n",
    "    \"\"\"\n",
    "    Extract conditions from a markdown file and save them into an Excel file.\n",
    "\n",
    "    Expected markdown format:\n",
    "\n",
    "    ### Condition Name\n",
    "    Condition description text (may span multiple paragraphs)\n",
    "    (Optionally, bullet points may follow)\n",
    "\n",
    "    Each condition is separated by a header line starting with \"### \".\n",
    "\n",
    "    Parameters:\n",
    "      markdown_file (str): Path to the markdown file.\n",
    "      excel_file (str): Path to save the resulting Excel file.\n",
    "    \"\"\"\n",
    "    # Read the entire markdown file.\n",
    "    with open(markdown_file, \"r\", encoding=\"utf-8\") as f:\n",
    "        content = f.read()\n",
    "\n",
    "    # Split the content at each header starting with \"### \" (using the MULTILINE flag).\n",
    "    parts = re.split(\"---\", content, flags=re.MULTILINE)\n",
    "    parts = [part for part in parts if part.strip() != \"\"]\n",
    "    # The first part before the first \"###\" header is usually the introduction; skip it.\n",
    "    conditions = []\n",
    "    for part in parts[1:]:\n",
    "        # Each part should begin with the condition name on its first line.\n",
    "        # The remaining text is the condition description.\n",
    "        lines = part.splitlines()\n",
    "        lines = [line for line in lines if line.strip() != \"\"]\n",
    "        if not lines:\n",
    "            continue\n",
    "        name = re.sub(r\"#\", \"\", lines[0].strip())\n",
    "        text = \"\\n\".join(lines[1:]).strip()\n",
    "        conditions.append({\"Condition Name\": name, \"Condition Text\": text})\n",
    "\n",
    "    # Create a DataFrame and save it to Excel.\n",
    "    df = pd.DataFrame(conditions)\n",
    "    df.to_excel(excel_file, index=False)\n",
    "    print(f\"Extracted {len(conditions)} conditions and saved to {excel_file}\")\n",
    "\n",
    "\n",
    "extract_conditions_from_markdown(\n",
    "    \"markdown/Expanded Conditions.md\", \"out/expanded_conditions.xlsx\"\n",
    ")"
   ]
  },
  {
   "cell_type": "code",
   "execution_count": null,
   "id": "5d5535c030090de5",
   "metadata": {},
   "outputs": [],
   "source": []
  }
 ],
 "metadata": {
  "kernelspec": {
   "display_name": "Python 3",
   "language": "python",
   "name": "python3"
  },
  "language_info": {
   "codemirror_mode": {
    "name": "ipython",
    "version": 2
   },
   "file_extension": ".py",
   "mimetype": "text/x-python",
   "name": "python",
   "nbconvert_exporter": "python",
   "pygments_lexer": "ipython2",
   "version": "2.7.6"
  }
 },
 "nbformat": 4,
 "nbformat_minor": 5
}
