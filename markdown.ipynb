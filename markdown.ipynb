{
 "cells": [
  {
   "cell_type": "markdown",
   "id": "52e6825e14e2f939",
   "metadata": {},
   "source": [
    "# Generate whole file\n",
    "https://raw.githubusercontent.com/la-rockoteque/Vestigium/refs/heads/main/out/Velum_Cineris;Vestigium_Guide_to_Concord_City.json\n"
   ]
  },
  {
   "metadata": {
    "ExecuteTime": {
     "end_time": "2025-04-19T10:51:46.150263Z",
     "start_time": "2025-04-19T10:51:30.795971Z"
    }
   },
   "cell_type": "code",
   "source": [
    "import pandas as pd\n",
    "import inflection\n",
    "\n",
    "from src.sources import full_source\n",
    "import src.markdown.spells\n",
    "import src.markdown.spell_list\n",
    "import src.markdown.classes\n",
    "import src.markdown.equipment\n",
    "import src.markdown.species\n",
    "from src.google_doc_updater import publish\n",
    "from src.style import _meta, base, header, spell_list, table\n",
    "\n",
    "\n",
    "import json\n",
    "import hashlib\n",
    "import time\n",
    "\n",
    "template = f\"\"\"```metadata\n",
    "title: {full_source}\n",
    "description: ''\n",
    "tags: []\n",
    "systems: []\n",
    "renderer: V3\n",
    "theme: 5eDMG\n",
    "```\n",
    "\n",
    "```css\n",
    "{_meta}\n",
    "{base}\n",
    "{header}\n",
    "{spell_list}\n",
    "{table}\n",
    "```\n",
    "\n",
    "{{{{insideCover}}}}\n",
    "# Classes\n",
    "\\page\n",
    "{src.markdown.classes.classes}\n",
    "\\page\n",
    "{{{{insideCover}}}}\n",
    "# Species\n",
    "\\page\n",
    "{src.markdown.species.species}\n",
    "\\page\n",
    "{{{{insideCover}}}}\n",
    "# Spells\n",
    "\\page\n",
    "{src.markdown.spell_list.spell_list}\n",
    "\\page\n",
    "{src.markdown.spells.spells}\n",
    "\\page\n",
    "{{{{insideCover}}}}\n",
    "# Equipment\n",
    "\\page\n",
    "{src.markdown.equipment.items}\n",
    "\\page\n",
    "{{{{insideCover}}}}\n",
    "# Anomalous Items\n",
    "\\page\n",
    "{src.markdown.equipment.magic_items}\n",
    "\"\"\"\n",
    "\n",
    "with open(f\"markdown/Testing Remote Edit.txt\", \"w\", encoding=\"utf-8\") as file:\n",
    "    file.write(template)\n",
    "\n",
    "publish(f\"markdown/Testing Remote Edit.txt\", \"117d5weYiy00K9NSvemaQiWiB-e75GrOZ\")\n",
    "\n",
    "print(f\"Export successful! The markdown has been saved.\")"
   ],
   "id": "978e9b88609eb572",
   "outputs": [
    {
     "name": "stderr",
     "output_type": "stream",
     "text": [
      "<>:63: SyntaxWarning: invalid escape sequence '\\p'\n",
      "<>:62: SyntaxWarning: invalid escape sequence '\\p'\n",
      "<>:63: SyntaxWarning: invalid escape sequence '\\p'\n",
      "<>:62: SyntaxWarning: invalid escape sequence '\\p'\n",
      "<>:63: SyntaxWarning: invalid escape sequence '\\p'\n",
      "<>:62: SyntaxWarning: invalid escape sequence '\\p'\n",
      "<>:62: SyntaxWarning: invalid escape sequence '\\p'\n",
      "<>:63: SyntaxWarning: invalid escape sequence '\\p'\n",
      "<>:62: SyntaxWarning: invalid escape sequence '\\p'\n",
      "<>:63: SyntaxWarning: invalid escape sequence '\\p'\n",
      "<>:63: SyntaxWarning: invalid escape sequence '\\p'\n",
      "<>:62: SyntaxWarning: invalid escape sequence '\\p'\n",
      "<>:63: SyntaxWarning: invalid escape sequence '\\p'\n",
      "<>:62: SyntaxWarning: invalid escape sequence '\\p'\n",
      "<>:63: SyntaxWarning: invalid escape sequence '\\p'\n",
      "<>:62: SyntaxWarning: invalid escape sequence '\\p'\n",
      "<>:62: SyntaxWarning: invalid escape sequence '\\p'\n",
      "<>:63: SyntaxWarning: invalid escape sequence '\\p'\n",
      "<>:62: SyntaxWarning: invalid escape sequence '\\p'\n",
      "<>:63: SyntaxWarning: invalid escape sequence '\\p'\n",
      "/var/folders/yp/2knpzhtx0m196v_zk0jw8my80000gn/T/ipykernel_51499/4262664976.py:63: SyntaxWarning: invalid escape sequence '\\p'\n",
      "  with open(f\"markdown/Testing Remote Edit.txt\", \"w\", encoding=\"utf-8\") as file:\n",
      "/var/folders/yp/2knpzhtx0m196v_zk0jw8my80000gn/T/ipykernel_51499/4262664976.py:62: SyntaxWarning: invalid escape sequence '\\p'\n",
      "  \n",
      "/var/folders/yp/2knpzhtx0m196v_zk0jw8my80000gn/T/ipykernel_51499/4262664976.py:63: SyntaxWarning: invalid escape sequence '\\p'\n",
      "  with open(f\"markdown/Testing Remote Edit.txt\", \"w\", encoding=\"utf-8\") as file:\n",
      "/var/folders/yp/2knpzhtx0m196v_zk0jw8my80000gn/T/ipykernel_51499/4262664976.py:62: SyntaxWarning: invalid escape sequence '\\p'\n",
      "  \n",
      "/var/folders/yp/2knpzhtx0m196v_zk0jw8my80000gn/T/ipykernel_51499/4262664976.py:63: SyntaxWarning: invalid escape sequence '\\p'\n",
      "  with open(f\"markdown/Testing Remote Edit.txt\", \"w\", encoding=\"utf-8\") as file:\n",
      "/var/folders/yp/2knpzhtx0m196v_zk0jw8my80000gn/T/ipykernel_51499/4262664976.py:62: SyntaxWarning: invalid escape sequence '\\p'\n",
      "  \n",
      "/var/folders/yp/2knpzhtx0m196v_zk0jw8my80000gn/T/ipykernel_51499/4262664976.py:62: SyntaxWarning: invalid escape sequence '\\p'\n",
      "  \n",
      "/var/folders/yp/2knpzhtx0m196v_zk0jw8my80000gn/T/ipykernel_51499/4262664976.py:63: SyntaxWarning: invalid escape sequence '\\p'\n",
      "  with open(f\"markdown/Testing Remote Edit.txt\", \"w\", encoding=\"utf-8\") as file:\n",
      "/var/folders/yp/2knpzhtx0m196v_zk0jw8my80000gn/T/ipykernel_51499/4262664976.py:62: SyntaxWarning: invalid escape sequence '\\p'\n",
      "  \n",
      "/var/folders/yp/2knpzhtx0m196v_zk0jw8my80000gn/T/ipykernel_51499/4262664976.py:63: SyntaxWarning: invalid escape sequence '\\p'\n",
      "  with open(f\"markdown/Testing Remote Edit.txt\", \"w\", encoding=\"utf-8\") as file:\n",
      "/var/folders/yp/2knpzhtx0m196v_zk0jw8my80000gn/T/ipykernel_51499/4262664976.py:63: SyntaxWarning: invalid escape sequence '\\p'\n",
      "  with open(f\"markdown/Testing Remote Edit.txt\", \"w\", encoding=\"utf-8\") as file:\n",
      "/var/folders/yp/2knpzhtx0m196v_zk0jw8my80000gn/T/ipykernel_51499/4262664976.py:62: SyntaxWarning: invalid escape sequence '\\p'\n",
      "  \n",
      "/var/folders/yp/2knpzhtx0m196v_zk0jw8my80000gn/T/ipykernel_51499/4262664976.py:63: SyntaxWarning: invalid escape sequence '\\p'\n",
      "  with open(f\"markdown/Testing Remote Edit.txt\", \"w\", encoding=\"utf-8\") as file:\n",
      "/var/folders/yp/2knpzhtx0m196v_zk0jw8my80000gn/T/ipykernel_51499/4262664976.py:62: SyntaxWarning: invalid escape sequence '\\p'\n",
      "  \n",
      "/var/folders/yp/2knpzhtx0m196v_zk0jw8my80000gn/T/ipykernel_51499/4262664976.py:63: SyntaxWarning: invalid escape sequence '\\p'\n",
      "  with open(f\"markdown/Testing Remote Edit.txt\", \"w\", encoding=\"utf-8\") as file:\n",
      "/var/folders/yp/2knpzhtx0m196v_zk0jw8my80000gn/T/ipykernel_51499/4262664976.py:62: SyntaxWarning: invalid escape sequence '\\p'\n",
      "  \n",
      "/var/folders/yp/2knpzhtx0m196v_zk0jw8my80000gn/T/ipykernel_51499/4262664976.py:62: SyntaxWarning: invalid escape sequence '\\p'\n",
      "  \n",
      "/var/folders/yp/2knpzhtx0m196v_zk0jw8my80000gn/T/ipykernel_51499/4262664976.py:63: SyntaxWarning: invalid escape sequence '\\p'\n",
      "  with open(f\"markdown/Testing Remote Edit.txt\", \"w\", encoding=\"utf-8\") as file:\n",
      "/var/folders/yp/2knpzhtx0m196v_zk0jw8my80000gn/T/ipykernel_51499/4262664976.py:62: SyntaxWarning: invalid escape sequence '\\p'\n",
      "  \n",
      "/var/folders/yp/2knpzhtx0m196v_zk0jw8my80000gn/T/ipykernel_51499/4262664976.py:63: SyntaxWarning: invalid escape sequence '\\p'\n",
      "  with open(f\"markdown/Testing Remote Edit.txt\", \"w\", encoding=\"utf-8\") as file:\n"
     ]
    },
    {
     "ename": "AttributeError",
     "evalue": "'float' object has no attribute 'split'",
     "output_type": "error",
     "traceback": [
      "\u001B[31m---------------------------------------------------------------------------\u001B[39m",
      "\u001B[31mAttributeError\u001B[39m                            Traceback (most recent call last)",
      "\u001B[36mCell\u001B[39m\u001B[36m \u001B[39m\u001B[32mIn[1]\u001B[39m\u001B[32m, line 9\u001B[39m\n\u001B[32m      7\u001B[39m \u001B[38;5;28;01mimport\u001B[39;00m\u001B[38;5;250m \u001B[39m\u001B[34;01msrc\u001B[39;00m\u001B[34;01m.\u001B[39;00m\u001B[34;01mmarkdown\u001B[39;00m\u001B[34;01m.\u001B[39;00m\u001B[34;01mclasses\u001B[39;00m\n\u001B[32m      8\u001B[39m \u001B[38;5;28;01mimport\u001B[39;00m\u001B[38;5;250m \u001B[39m\u001B[34;01msrc\u001B[39;00m\u001B[34;01m.\u001B[39;00m\u001B[34;01mmarkdown\u001B[39;00m\u001B[34;01m.\u001B[39;00m\u001B[34;01mequipment\u001B[39;00m\n\u001B[32m----> \u001B[39m\u001B[32m9\u001B[39m \u001B[38;5;28;01mimport\u001B[39;00m\u001B[38;5;250m \u001B[39m\u001B[34;01msrc\u001B[39;00m\u001B[34;01m.\u001B[39;00m\u001B[34;01mmarkdown\u001B[39;00m\u001B[34;01m.\u001B[39;00m\u001B[34;01mspecies\u001B[39;00m\n\u001B[32m     10\u001B[39m \u001B[38;5;28;01mfrom\u001B[39;00m\u001B[38;5;250m \u001B[39m\u001B[34;01msrc\u001B[39;00m\u001B[34;01m.\u001B[39;00m\u001B[34;01mgoogle_doc_updater\u001B[39;00m\u001B[38;5;250m \u001B[39m\u001B[38;5;28;01mimport\u001B[39;00m publish\n\u001B[32m     11\u001B[39m \u001B[38;5;28;01mfrom\u001B[39;00m\u001B[38;5;250m \u001B[39m\u001B[34;01msrc\u001B[39;00m\u001B[34;01m.\u001B[39;00m\u001B[34;01mstyle\u001B[39;00m\u001B[38;5;250m \u001B[39m\u001B[38;5;28;01mimport\u001B[39;00m _meta, base, header, spell_list, table\n",
      "\u001B[36mFile \u001B[39m\u001B[32m~/dev/VestigiumFoundrySpells/src/markdown/species.py:59\u001B[39m\n\u001B[32m      7\u001B[39m \u001B[38;5;28;01mdef\u001B[39;00m\u001B[38;5;250m \u001B[39m\u001B[34mrow_to_species\u001B[39m(row):\n\u001B[32m      8\u001B[39m   \u001B[38;5;28;01mreturn\u001B[39;00m \u001B[33mf\u001B[39m\u001B[33m\"\"\"\u001B[39m\u001B[33m# \u001B[39m\u001B[38;5;132;01m{\u001B[39;00mrow.get(\u001B[33m\"\u001B[39m\u001B[33mName\u001B[39m\u001B[33m\"\u001B[39m)\u001B[38;5;132;01m}\u001B[39;00m\u001B[33m - \u001B[39m\u001B[38;5;132;01m{\u001B[39;00mrow.get(\u001B[33m\"\u001B[39m\u001B[33mSlogan\u001B[39m\u001B[33m\"\u001B[39m)\u001B[38;5;132;01m}\u001B[39;00m\n\u001B[32m      9\u001B[39m \u001B[33m>*\u001B[39m\u001B[38;5;130;01m\\\"\u001B[39;00m\u001B[38;5;132;01m{\u001B[39;00mrow.get(\u001B[33m\"\u001B[39m\u001B[33mQuote\u001B[39m\u001B[33m\"\u001B[39m)\u001B[38;5;132;01m}\u001B[39;00m\u001B[38;5;130;01m\\\"\u001B[39;00m\n\u001B[32m     10\u001B[39m \n\u001B[32m   (...)\u001B[39m\u001B[32m     55\u001B[39m \u001B[38;5;132;01m{\u001B[39;00mrow.get(\u001B[33m\"\u001B[39m\u001B[33mPlaystyle & Roleplaying Hooks\u001B[39m\u001B[33m\"\u001B[39m)\u001B[38;5;132;01m}\u001B[39;00m\n\u001B[32m     56\u001B[39m \u001B[33m\"\"\"\u001B[39m\n\u001B[32m     58\u001B[39m species= [\n\u001B[32m---> \u001B[39m\u001B[32m59\u001B[39m   \u001B[43mrow_to_species\u001B[49m\u001B[43m(\u001B[49m\u001B[43mrow\u001B[49m\u001B[43m)\u001B[49m\n\u001B[32m     60\u001B[39m   \u001B[38;5;28;01mfor\u001B[39;00m index, row \u001B[38;5;129;01min\u001B[39;00m df_species.iterrows()\n\u001B[32m     61\u001B[39m   \u001B[38;5;28;01mif\u001B[39;00m pd.notnull(row.get(\u001B[33m\"\u001B[39m\u001B[33mName\u001B[39m\u001B[33m\"\u001B[39m))\n\u001B[32m     62\u001B[39m ]\n",
      "\u001B[36mFile \u001B[39m\u001B[32m~/dev/VestigiumFoundrySpells/src/markdown/species.py:49\u001B[39m, in \u001B[36mrow_to_species\u001B[39m\u001B[34m(row)\u001B[39m\n\u001B[32m      7\u001B[39m \u001B[38;5;28;01mdef\u001B[39;00m\u001B[38;5;250m \u001B[39m\u001B[34mrow_to_species\u001B[39m(row):\n\u001B[32m      8\u001B[39m   \u001B[38;5;28;01mreturn\u001B[39;00m \u001B[33mf\u001B[39m\u001B[33m\"\"\"\u001B[39m\u001B[33m# \u001B[39m\u001B[38;5;132;01m{\u001B[39;00mrow.get(\u001B[33m\"\u001B[39m\u001B[33mName\u001B[39m\u001B[33m\"\u001B[39m)\u001B[38;5;132;01m}\u001B[39;00m\u001B[33m - \u001B[39m\u001B[38;5;132;01m{\u001B[39;00mrow.get(\u001B[33m\"\u001B[39m\u001B[33mSlogan\u001B[39m\u001B[33m\"\u001B[39m)\u001B[38;5;132;01m}\u001B[39;00m\n\u001B[32m      9\u001B[39m \u001B[33m>*\u001B[39m\u001B[38;5;130;01m\\\"\u001B[39;00m\u001B[38;5;132;01m{\u001B[39;00mrow.get(\u001B[33m\"\u001B[39m\u001B[33mQuote\u001B[39m\u001B[33m\"\u001B[39m)\u001B[38;5;132;01m}\u001B[39;00m\u001B[38;5;130;01m\\\"\u001B[39;00m\n\u001B[32m     10\u001B[39m \n\u001B[32m     11\u001B[39m \u001B[38;5;132;01m{\u001B[39;00mrow.get(\u001B[33m\"\u001B[39m\u001B[33mIntro\u001B[39m\u001B[33m\"\u001B[39m)\u001B[38;5;132;01m}\u001B[39;00m\n\u001B[32m     12\u001B[39m \n\u001B[32m     13\u001B[39m \u001B[33m## Origins & History\u001B[39m\n\u001B[32m     14\u001B[39m \u001B[38;5;132;01m{\u001B[39;00mrow.get(\u001B[33m\"\u001B[39m\u001B[33mOrigin\u001B[39m\u001B[33m\"\u001B[39m)\u001B[38;5;132;01m}\u001B[39;00m\n\u001B[32m     15\u001B[39m \n\u001B[32m     16\u001B[39m \u001B[33m## Appearance\u001B[39m\n\u001B[32m     17\u001B[39m \u001B[38;5;132;01m{\u001B[39;00mrow.get(\u001B[33m\"\u001B[39m\u001B[33mAppearance\u001B[39m\u001B[33m\"\u001B[39m)\u001B[38;5;132;01m}\u001B[39;00m\n\u001B[32m     18\u001B[39m \n\u001B[32m     19\u001B[39m \u001B[33m## Culture & Identity\u001B[39m\n\u001B[32m     20\u001B[39m \u001B[38;5;132;01m{\u001B[39;00mrow.get(\u001B[33m\"\u001B[39m\u001B[33mCulture & Identity\u001B[39m\u001B[33m\"\u001B[39m)\u001B[38;5;132;01m}\u001B[39;00m\n\u001B[32m     21\u001B[39m \n\u001B[32m     22\u001B[39m \u001B[33m## Naming Conventions\u001B[39m\n\u001B[32m     23\u001B[39m \u001B[38;5;132;01m{\u001B[39;00mrow.get(\u001B[33m\"\u001B[39m\u001B[33mNaming Conventions\u001B[39m\u001B[33m\"\u001B[39m)\u001B[38;5;132;01m}\u001B[39;00m\n\u001B[32m     24\u001B[39m \n\u001B[32m     25\u001B[39m \u001B[33m## \u001B[39m\u001B[38;5;132;01m{\u001B[39;00mrow.get(\u001B[33m\"\u001B[39m\u001B[33mName\u001B[39m\u001B[33m\"\u001B[39m)\u001B[38;5;132;01m}\u001B[39;00m\u001B[33m Traits\u001B[39m\n\u001B[32m     26\u001B[39m \u001B[33mYou \u001B[39m\u001B[38;5;132;01m{\u001B[39;00mrow.get(\u001B[33m\"\u001B[39m\u001B[33mName\u001B[39m\u001B[33m\"\u001B[39m)\u001B[38;5;132;01m}\u001B[39;00m\u001B[33m character has the following traits.\u001B[39m\n\u001B[32m     27\u001B[39m \n\u001B[32m     28\u001B[39m \u001B[33m### Ability Score Increases\u001B[39m\n\u001B[32m     29\u001B[39m \u001B[33m- Your **\u001B[39m\u001B[38;5;132;01m{\u001B[39;00mrow.get(\u001B[33m\"\u001B[39m\u001B[33mAbility 1\u001B[39m\u001B[33m\"\u001B[39m)\u001B[38;5;132;01m}\u001B[39;00m\u001B[33m** score increases by **\u001B[39m\u001B[38;5;132;01m{\u001B[39;00mrow.get(\u001B[33m\"\u001B[39m\u001B[33mScore 1\u001B[39m\u001B[33m\"\u001B[39m)\u001B[38;5;132;01m}\u001B[39;00m\u001B[33m**.\u001B[39m\n\u001B[32m     30\u001B[39m \u001B[33m- Your **\u001B[39m\u001B[38;5;132;01m{\u001B[39;00mrow.get(\u001B[33m\"\u001B[39m\u001B[33mAbility 2\u001B[39m\u001B[33m\"\u001B[39m)\u001B[38;5;132;01m}\u001B[39;00m\u001B[33m** score increases by **\u001B[39m\u001B[38;5;132;01m{\u001B[39;00mrow.get(\u001B[33m\"\u001B[39m\u001B[33mScore 2\u001B[39m\u001B[33m\"\u001B[39m)\u001B[38;5;132;01m}\u001B[39;00m\u001B[33m**.\u001B[39m\n\u001B[32m     31\u001B[39m \n\u001B[32m     32\u001B[39m \u001B[33m### Age\u001B[39m\n\u001B[32m     33\u001B[39m \u001B[38;5;132;01m{\u001B[39;00mrow.get(\u001B[33m\"\u001B[39m\u001B[33mAge\u001B[39m\u001B[33m\"\u001B[39m)\u001B[38;5;132;01m}\u001B[39;00m\n\u001B[32m     34\u001B[39m \n\u001B[32m     35\u001B[39m \u001B[33m### Size\u001B[39m\n\u001B[32m     36\u001B[39m \u001B[38;5;132;01m{\u001B[39;00mrow.get(\u001B[33m\"\u001B[39m\u001B[33mSize\u001B[39m\u001B[33m\"\u001B[39m)\u001B[38;5;132;01m}\u001B[39;00m\n\u001B[32m     37\u001B[39m \n\u001B[32m     38\u001B[39m \u001B[33m### Speed\u001B[39m\n\u001B[32m     39\u001B[39m \u001B[38;5;132;01m{\u001B[39;00mrow.get(\u001B[33m\"\u001B[39m\u001B[33mSpeed\u001B[39m\u001B[33m\"\u001B[39m)\u001B[38;5;132;01m}\u001B[39;00m\n\u001B[32m     40\u001B[39m \n\u001B[32m     41\u001B[39m \u001B[33m### Senses\u001B[39m\n\u001B[32m     42\u001B[39m \u001B[38;5;132;01m{\u001B[39;00mrow.get(\u001B[33m\"\u001B[39m\u001B[33mVision\u001B[39m\u001B[33m\"\u001B[39m)\u001B[38;5;132;01m}\u001B[39;00m\n\u001B[32m     43\u001B[39m \n\u001B[32m     44\u001B[39m \u001B[33m### Racial Traits\u001B[39m\n\u001B[32m     45\u001B[39m \u001B[33m- **\u001B[39m\u001B[38;5;132;01m{\u001B[39;00mrow.get(\u001B[33m\"\u001B[39m\u001B[33mTrait 1\u001B[39m\u001B[33m\"\u001B[39m).split(\u001B[33m\"\u001B[39m\u001B[33m|\u001B[39m\u001B[33m\"\u001B[39m)[\u001B[32m0\u001B[39m]\u001B[38;5;132;01m}\u001B[39;00m\u001B[33m**. \u001B[39m\u001B[38;5;132;01m{\u001B[39;00mrow.get(\u001B[33m\"\u001B[39m\u001B[33mTrait 1\u001B[39m\u001B[33m\"\u001B[39m).split(\u001B[33m\"\u001B[39m\u001B[33m|\u001B[39m\u001B[33m\"\u001B[39m)[\u001B[32m1\u001B[39m]\u001B[38;5;132;01m}\u001B[39;00m\n\u001B[32m     46\u001B[39m \u001B[33m- **\u001B[39m\u001B[38;5;132;01m{\u001B[39;00mrow.get(\u001B[33m\"\u001B[39m\u001B[33mTrait 2\u001B[39m\u001B[33m\"\u001B[39m).split(\u001B[33m\"\u001B[39m\u001B[33m|\u001B[39m\u001B[33m\"\u001B[39m)[\u001B[32m0\u001B[39m]\u001B[38;5;132;01m}\u001B[39;00m\u001B[33m**. \u001B[39m\u001B[38;5;132;01m{\u001B[39;00mrow.get(\u001B[33m\"\u001B[39m\u001B[33mTrait 2\u001B[39m\u001B[33m\"\u001B[39m).split(\u001B[33m\"\u001B[39m\u001B[33m|\u001B[39m\u001B[33m\"\u001B[39m)[\u001B[32m1\u001B[39m]\u001B[38;5;132;01m}\u001B[39;00m\n\u001B[32m     47\u001B[39m \u001B[33m- **\u001B[39m\u001B[38;5;132;01m{\u001B[39;00mrow.get(\u001B[33m\"\u001B[39m\u001B[33mTrait 3\u001B[39m\u001B[33m\"\u001B[39m).split(\u001B[33m\"\u001B[39m\u001B[33m|\u001B[39m\u001B[33m\"\u001B[39m)[\u001B[32m0\u001B[39m]\u001B[38;5;132;01m}\u001B[39;00m\u001B[33m**. \u001B[39m\u001B[38;5;132;01m{\u001B[39;00mrow.get(\u001B[33m\"\u001B[39m\u001B[33mTrait 3\u001B[39m\u001B[33m\"\u001B[39m).split(\u001B[33m\"\u001B[39m\u001B[33m|\u001B[39m\u001B[33m\"\u001B[39m)[\u001B[32m1\u001B[39m]\u001B[38;5;132;01m}\u001B[39;00m\n\u001B[32m     48\u001B[39m \u001B[33m- **\u001B[39m\u001B[38;5;132;01m{\u001B[39;00mrow.get(\u001B[33m\"\u001B[39m\u001B[33mTrait 4\u001B[39m\u001B[33m\"\u001B[39m).split(\u001B[33m\"\u001B[39m\u001B[33m|\u001B[39m\u001B[33m\"\u001B[39m)[\u001B[32m0\u001B[39m]\u001B[38;5;132;01m}\u001B[39;00m\u001B[33m**. \u001B[39m\u001B[38;5;132;01m{\u001B[39;00mrow.get(\u001B[33m\"\u001B[39m\u001B[33mTrait 4\u001B[39m\u001B[33m\"\u001B[39m).split(\u001B[33m\"\u001B[39m\u001B[33m|\u001B[39m\u001B[33m\"\u001B[39m)[\u001B[32m1\u001B[39m]\u001B[38;5;132;01m}\u001B[39;00m\n\u001B[32m---> \u001B[39m\u001B[32m49\u001B[39m \u001B[33m- **\u001B[39m\u001B[38;5;132;01m{\u001B[39;00m\u001B[43mrow\u001B[49m\u001B[43m.\u001B[49m\u001B[43mget\u001B[49m\u001B[43m(\u001B[49m\u001B[33;43m\"\u001B[39;49m\u001B[33;43mTrait 5\u001B[39;49m\u001B[33;43m\"\u001B[39;49m\u001B[43m)\u001B[49m\u001B[43m.\u001B[49m\u001B[43msplit\u001B[49m(\u001B[33m\"\u001B[39m\u001B[33m|\u001B[39m\u001B[33m\"\u001B[39m)[\u001B[32m0\u001B[39m]\u001B[38;5;132;01m}\u001B[39;00m\u001B[33m**. \u001B[39m\u001B[38;5;132;01m{\u001B[39;00mrow.get(\u001B[33m\"\u001B[39m\u001B[33mTrait 5\u001B[39m\u001B[33m\"\u001B[39m).split(\u001B[33m\"\u001B[39m\u001B[33m|\u001B[39m\u001B[33m\"\u001B[39m)[\u001B[32m1\u001B[39m]\u001B[38;5;132;01m}\u001B[39;00m\n\u001B[32m     50\u001B[39m \n\u001B[32m     51\u001B[39m \u001B[33m### \u001B[39m\u001B[38;5;132;01m{\u001B[39;00mrow.get(\u001B[33m\"\u001B[39m\u001B[33mName\u001B[39m\u001B[33m\"\u001B[39m)\u001B[38;5;132;01m}\u001B[39;00m\u001B[33m in Concord City\u001B[39m\n\u001B[32m     52\u001B[39m \u001B[38;5;132;01m{\u001B[39;00mrow.get(\u001B[33m\"\u001B[39m\u001B[33mLife in the City\u001B[39m\u001B[33m\"\u001B[39m)\u001B[38;5;132;01m}\u001B[39;00m\n\u001B[32m     53\u001B[39m \n\u001B[32m     54\u001B[39m \u001B[33m### Playstyle & Roleplaying\u001B[39m\n\u001B[32m     55\u001B[39m \u001B[38;5;132;01m{\u001B[39;00mrow.get(\u001B[33m\"\u001B[39m\u001B[33mPlaystyle & Roleplaying Hooks\u001B[39m\u001B[33m\"\u001B[39m)\u001B[38;5;132;01m}\u001B[39;00m\n\u001B[32m     56\u001B[39m \u001B[33m\"\"\"\u001B[39m\n",
      "\u001B[31mAttributeError\u001B[39m: 'float' object has no attribute 'split'"
     ]
    }
   ],
   "execution_count": 1
  },
  {
   "cell_type": "code",
   "id": "c2e17e2871759d5a",
   "metadata": {
    "ExecuteTime": {
     "end_time": "2025-04-19T10:51:46.153559Z",
     "start_time": "2025-04-19T10:32:16.983137Z"
    }
   },
   "source": [],
   "outputs": [],
   "execution_count": null
  }
 ],
 "metadata": {
  "kernelspec": {
   "display_name": "Python 3",
   "language": "python",
   "name": "python3"
  },
  "language_info": {
   "codemirror_mode": {
    "name": "ipython",
    "version": 2
   },
   "file_extension": ".py",
   "mimetype": "text/x-python",
   "name": "python",
   "nbconvert_exporter": "python",
   "pygments_lexer": "ipython2",
   "version": "2.7.6"
  }
 },
 "nbformat": 4,
 "nbformat_minor": 5
}
