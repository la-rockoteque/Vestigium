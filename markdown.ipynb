{
 "cells": [
  {
   "metadata": {},
   "cell_type": "markdown",
   "source": [
    "# Generate whole file\n",
    "https://raw.githubusercontent.com/la-rockoteque/Vestigium/refs/heads/main/out/Velum_Cineris;Vestigium_Guide_to_Concord_City.json\n"
   ],
   "id": "52e6825e14e2f939"
  },
  {
   "metadata": {
    "ExecuteTime": {
     "end_time": "2025-04-14T14:39:06.007732Z",
     "start_time": "2025-04-14T14:39:04.448314Z"
    }
   },
   "cell_type": "code",
   "source": [
    "\n",
    "import pandas as pd\n",
    "import inflection\n",
    "\n",
    "from src.sources import full_source\n",
    "import src.markdown.spells\n",
    "import src.markdown.spell_list\n",
    "\n",
    "\n",
    "import json\n",
    "import hashlib\n",
    "import time\n",
    "\n",
    "with open(f\"out/{full_source}/spells.mdx\", 'w', encoding='utf-8') as file:\n",
    "  file.write(src.markdown.spells.spells)\n",
    "\n",
    "with open(f\"out/{full_source}/spell_list.mdx\", 'w', encoding='utf-8') as file:\n",
    "  file.write(src.markdown.spell_list.spell_list)  # Ensure all lines are preserved\n",
    "\n",
    "print(f\"Export successful! The markdown has been saved.\")"
   ],
   "id": "978e9b88609eb572",
   "outputs": [
    {
     "name": "stdout",
     "output_type": "stream",
     "text": [
      "Export successful! The markdown has been saved.\n"
     ]
    }
   ],
   "execution_count": 1
  },
  {
   "metadata": {
    "ExecuteTime": {
     "end_time": "2025-04-14T14:39:06.013426Z",
     "start_time": "2025-04-14T14:39:06.010912Z"
    }
   },
   "cell_type": "code",
   "source": "",
   "id": "c2e17e2871759d5a",
   "outputs": [],
   "execution_count": null
  }
 ],
 "metadata": {
  "kernelspec": {
   "display_name": "Python 3",
   "language": "python",
   "name": "python3"
  },
  "language_info": {
   "codemirror_mode": {
    "name": "ipython",
    "version": 2
   },
   "file_extension": ".py",
   "mimetype": "text/x-python",
   "name": "python",
   "nbconvert_exporter": "python",
   "pygments_lexer": "ipython2",
   "version": "2.7.6"
  }
 },
 "nbformat": 4,
 "nbformat_minor": 5
}
