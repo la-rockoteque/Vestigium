{
 "cells": [
  {
   "cell_type": "markdown",
   "id": "52e6825e14e2f939",
   "metadata": {},
   "source": [
    "# Generate whole file\n",
    "https://raw.githubusercontent.com/la-rockoteque/Vestigium/refs/heads/main/out/Velum_Cineris;Vestigium_Guide_to_Concord_City.json\n"
   ]
  },
  {
   "cell_type": "code",
   "execution_count": 1,
   "id": "978e9b88609eb572",
   "metadata": {
    "ExecuteTime": {
     "end_time": "2025-04-14T16:22:04.862482Z",
     "start_time": "2025-04-14T16:20:18.596158Z"
    }
   },
   "outputs": [
    {
     "name": "stdout",
     "output_type": "stream",
     "text": [
      "Processing file: spells.mdx\n",
      "Conversion successful!\n",
      " out/Everyday Guide to Concord City/spells.pdfPDF generated successfully!\n",
      "Processing file: spell_list.mdx\n",
      "Conversion successful!\n",
      " out/Everyday Guide to Concord City/spell_list.pdfPDF generated successfully!\n"
     ]
    }
   ],
   "source": [
    "from src.sources import full_source\n",
    "import subprocess\n",
    "import inflection\n",
    "from pathlib import Path\n",
    "from weasyprint import HTML\n",
    "\n",
    "import subprocess\n",
    "\n",
    "import os\n",
    "\n",
    "root_dir = f\"./out/{full_source}\"  # Change this to your directory path\n",
    "node_path = \"/Users/rocko/.asdf/shims/node\"\n",
    "# Walk the directory tree\n",
    "for dirpath, dirnames, filenames in os.walk(root_dir):\n",
    "    for filename in filenames:\n",
    "        if filename.endswith(\".mdx\"):\n",
    "            print(\"Processing file:\", filename)\n",
    "            file_path = os.path.join(dirpath, filename)\n",
    "            file = os.path.splitext(os.path.basename(file_path))[0]\n",
    "            subprocess.run(\n",
    "                [node_path, \"scripts/convert-mdx.js\", full_source, file], check=True\n",
    "            )\n",
    "            html_file = Path(f\"out/{full_source}/{file}.html\")\n",
    "            output_pdf = Path(f\"out/{full_source}/{file}.pdf\")\n",
    "            HTML(html_file).write_pdf(output_pdf)\n",
    "            print(f\" {output_pdf}PDF generated successfully!\")"
   ]
  }
 ],
 "metadata": {
  "kernelspec": {
   "display_name": "Python 3",
   "language": "python",
   "name": "python3"
  },
  "language_info": {
   "codemirror_mode": {
    "name": "ipython",
    "version": 2
   },
   "file_extension": ".py",
   "mimetype": "text/x-python",
   "name": "python",
   "nbconvert_exporter": "python",
   "pygments_lexer": "ipython2",
   "version": "2.7.6"
  }
 },
 "nbformat": 4,
 "nbformat_minor": 5
}
